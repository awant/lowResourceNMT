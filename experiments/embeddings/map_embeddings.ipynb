{
 "cells": [
  {
   "cell_type": "code",
   "execution_count": 192,
   "metadata": {},
   "outputs": [],
   "source": [
    "import pandas as pd\n",
    "import numpy as np\n",
    "from tqdm import tqdm\n",
    "import pickle"
   ]
  },
  {
   "cell_type": "code",
   "execution_count": 202,
   "metadata": {},
   "outputs": [],
   "source": [
    "def make_embedding_matrices(datapath):\n",
    "    token_to_id = dict()\n",
    "    id_to_token = dict()\n",
    "    embeddings = []\n",
    "\n",
    "    for row in tqdm(pd.read_csv(datapath, header=None).iterrows(), position=0):\n",
    "        idx = row[0]\n",
    "        token = row[1][0]\n",
    "        vec = np.array(row[1][1:-1])\n",
    "\n",
    "        token_to_id[token] = idx\n",
    "        id_to_token[len(embeddings)] = token\n",
    "        embeddings.append(vec)\n",
    "\n",
    "    embeddings = np.array(embeddings, dtype=float)\n",
    "    \n",
    "    return token_to_id, id_to_token, embeddings"
   ]
  },
  {
   "cell_type": "code",
   "execution_count": 203,
   "metadata": {},
   "outputs": [
    {
     "name": "stderr",
     "output_type": "stream",
     "text": [
      "20007it [00:03, 5544.91it/s]\n"
     ]
    }
   ],
   "source": [
    "tokens_ru, id_to_token_ru, embeddings_ru = make_embedding_matrices('/data/LowResourceTmp/ru.csv')"
   ]
  },
  {
   "cell_type": "code",
   "execution_count": 204,
   "metadata": {},
   "outputs": [
    {
     "name": "stderr",
     "output_type": "stream",
     "text": [
      "20009it [00:03, 5691.06it/s]\n"
     ]
    }
   ],
   "source": [
    "tokens_en, id_to_token_en, embeddings_en = make_embedding_matrices('/data/LowResourceTmp/en.csv')"
   ]
  },
  {
   "cell_type": "code",
   "execution_count": 205,
   "metadata": {},
   "outputs": [],
   "source": [
    "with open('en-ru-dict', 'rb') as f:\n",
    "    en_ru_dict = pickle.loads(f.read())"
   ]
  },
  {
   "cell_type": "code",
   "execution_count": 207,
   "metadata": {},
   "outputs": [],
   "source": [
    "def normaize(arr):\n",
    "    return arr / np.sqrt((arr ** 2).sum(axis=1))[:, np.newaxis]"
   ]
  },
  {
   "cell_type": "code",
   "execution_count": 208,
   "metadata": {},
   "outputs": [],
   "source": [
    "indices_en = []\n",
    "indices_ru = []\n",
    "\n",
    "\n",
    "for en_token, ru_token in en_ru_dict.items():\n",
    "    try:\n",
    "        en_idx = tokens_en[en_token]\n",
    "        ru_idx = tokens_ru[ru_token]\n",
    "    except KeyError:\n",
    "        continue\n",
    "        \n",
    "    indices_en.append(en_idx)\n",
    "    indices_ru.append(ru_idx)\n",
    "\n",
    "indices_en = np.array(indices_en)\n",
    "indices_ru = np.array(indices_ru)"
   ]
  },
  {
   "cell_type": "code",
   "execution_count": 210,
   "metadata": {},
   "outputs": [],
   "source": [
    "embeddings_en = normaize(embeddings_en)\n",
    "embeddings_ru = normaize(embeddings_ru)"
   ]
  },
  {
   "cell_type": "code",
   "execution_count": 211,
   "metadata": {},
   "outputs": [],
   "source": [
    "x = embeddings_en[indices_en]\n",
    "z = embeddings_ru[indices_ru]"
   ]
  },
  {
   "cell_type": "code",
   "execution_count": 212,
   "metadata": {},
   "outputs": [],
   "source": [
    "u, s, vt = np.linalg.svd(z.T.dot(x))\n",
    "w = vt.T.dot(u.T)"
   ]
  },
  {
   "cell_type": "code",
   "execution_count": 213,
   "metadata": {},
   "outputs": [],
   "source": [
    "embeddings_en_new = embeddings_en.dot(w)"
   ]
  },
  {
   "cell_type": "code",
   "execution_count": 214,
   "metadata": {},
   "outputs": [],
   "source": [
    "def get_closest_words(token, emb_en=embeddings_en_new, emb_ru=embeddings_ru, token2id=tokens_en, id2token=id_to_token_ru):\n",
    "    vec = emb_en[token2id[token]]\n",
    "    idx = sorted(np.arange(emb_ru.shape[0]), key=lambda i: np.linalg.norm(vec - emb_ru[i]))[:5]\n",
    "    tokens = [id2token[ix] for ix in idx]\n",
    "    \n",
    "    return tokens"
   ]
  },
  {
   "cell_type": "code",
   "execution_count": 215,
   "metadata": {},
   "outputs": [
    {
     "data": {
      "text/plain": [
       "['турист', 'велосипедист', 'альпинист', 'путник', 'паломник']"
      ]
     },
     "execution_count": 215,
     "metadata": {},
     "output_type": "execute_result"
    }
   ],
   "source": [
    "get_closest_words('hiker')"
   ]
  },
  {
   "cell_type": "code",
   "execution_count": 216,
   "metadata": {},
   "outputs": [
    {
     "data": {
      "text/plain": [
       "['быт', 'произойт', 'возникнут', 'выглядет', 'имет']"
      ]
     },
     "execution_count": 216,
     "metadata": {},
     "output_type": "execute_result"
    }
   ],
   "source": [
    "get_closest_word('be')"
   ]
  },
  {
   "cell_type": "code",
   "execution_count": 217,
   "metadata": {},
   "outputs": [
    {
     "data": {
      "text/plain": [
       "['кинокартин', 'кинолент', 'перформанс', 'кинематограф', 'рок-музык']"
      ]
     },
     "execution_count": 217,
     "metadata": {},
     "output_type": "execute_result"
    }
   ],
   "source": [
    "get_closest_word('cinema')"
   ]
  },
  {
   "cell_type": "code",
   "execution_count": 229,
   "metadata": {},
   "outputs": [],
   "source": [
    "shared_embeddings = {}"
   ]
  },
  {
   "cell_type": "code",
   "execution_count": 231,
   "metadata": {},
   "outputs": [],
   "source": [
    "for token, ix in tokens_en.items():\n",
    "    shared_embeddings[token] = embeddings_en_new[ix]\n",
    "\n",
    "for token, ix in tokens_ru.items():\n",
    "    shared_embeddings[token] = embeddings_ru[ix]"
   ]
  },
  {
   "cell_type": "code",
   "execution_count": 232,
   "metadata": {},
   "outputs": [],
   "source": [
    "with open('shared_embeddings', 'wb') as f:\n",
    "    f.write(pickle.dumps(shared_embeddings))"
   ]
  }
 ],
 "metadata": {
  "kernelspec": {
   "display_name": "low resource",
   "language": "python",
   "name": "lowresource"
  },
  "language_info": {
   "codemirror_mode": {
    "name": "ipython",
    "version": 3
   },
   "file_extension": ".py",
   "mimetype": "text/x-python",
   "name": "python",
   "nbconvert_exporter": "python",
   "pygments_lexer": "ipython3",
   "version": "3.5.2"
  }
 },
 "nbformat": 4,
 "nbformat_minor": 2
}
